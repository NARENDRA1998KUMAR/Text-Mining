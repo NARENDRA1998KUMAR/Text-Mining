{
 "cells": [
  {
   "cell_type": "markdown",
   "metadata": {},
   "source": [
    "#### Preliminary tasks\n",
    "1. Set working directory\n",
    "2. Install nltk package\n",
    "2. import nltk package"
   ]
  },
  {
   "cell_type": "code",
   "execution_count": null,
   "metadata": {},
   "outputs": [],
   "source": [
    "import os\n",
    "os.chdir(\"C:/Users/Sid/Desktop/Text Mining/Day1/Decks\")\n",
    "# !pip nltk and follow instructions"
   ]
  },
  {
   "cell_type": "markdown",
   "metadata": {},
   "source": [
    "#### Basic tasks\n",
    "\n",
    "1. Loading corpora \n",
    "2. Searching text\n",
    "2. Counting vocabulary\n",
    "3. Generaing simple statistics\n"
   ]
  },
  {
   "cell_type": "code",
   "execution_count": null,
   "metadata": {},
   "outputs": [],
   "source": [
    "# loading some text documents from nltk's book module\n",
    "\n",
    "from nltk.book import *"
   ]
  },
  {
   "cell_type": "markdown",
   "metadata": {},
   "source": [
    "####  Concordance and similar are function that provide the context surroding the word in question. Concordance displays about 30 chars on either side of the word. Similar fuuction displays words used in similar context i.e. same words on either side. "
   ]
  },
  {
   "cell_type": "code",
   "execution_count": null,
   "metadata": {},
   "outputs": [],
   "source": [
    "# Getting an http://localhost:8888/notebooks/Desktop/Great%20Lakes/great%20lakes/Text%20mining/Text%20Mining%20-%20Student/Day1/Faculty_Notebook/TMD1L1.ipynb#Concordance-and-similar-are-function-that-provide-the-context-surroding-the-word-in-question.-Concordance-displays-about-30-chars-on-either-side-of-the-word.-Similar-fuuction-displays-words-used-in-similar-context-i.e.-same-words-on-either-side.abstrct of specific document in the corpus using document name.\n",
    "\n",
    "display(text1)\n",
    "display(text2)"
   ]
  },
  {
   "cell_type": "code",
   "execution_count": null,
   "metadata": {},
   "outputs": [],
   "source": [
    "# Serching text. Concordance function provides context for a selected word\n",
    "\n",
    "text1.concordance('monstrous')"
   ]
  },
  {
   "cell_type": "code",
   "execution_count": null,
   "metadata": {},
   "outputs": [],
   "source": [
    "# to get words used similar conext as monstruous from two different documents\n",
    "text1.similar('monstrous')\n"
   ]
  },
  {
   "cell_type": "code",
   "execution_count": null,
   "metadata": {},
   "outputs": [],
   "source": [
    "text2.similar('monstrous')"
   ]
  },
  {
   "cell_type": "code",
   "execution_count": null,
   "metadata": {},
   "outputs": [],
   "source": [
    "# What is the common context for monstrous and very in text2. We can also try monstrous and christian in text1.\n",
    "\n",
    "text2.common_contexts(['monstrous', 'very'])"
   ]
  },
  {
   "cell_type": "markdown",
   "metadata": {},
   "source": [
    "#### In the following example we make a very interesting observation by obtaining the concordance for the word lived. "
   ]
  },
  {
   "cell_type": "code",
   "execution_count": null,
   "metadata": {},
   "outputs": [],
   "source": [
    "# An observtion from Bible. How long did they live?\n",
    "\n",
    "text3.concordance('lived')"
   ]
  },
  {
   "cell_type": "markdown",
   "metadata": {},
   "source": [
    "#### Dispersion plots give how usage of word has changed overtime. Inagural address is the speech by the president of america when he takes office.  In this example, we try to observe how has been the usage of the words (citizens, democarcy, freedom, duties, America) over a period of time."
   ]
  },
  {
   "cell_type": "code",
   "execution_count": null,
   "metadata": {},
   "outputs": [],
   "source": [
    "# dispersion plot : An interesting observation on american presidential inaugural addresses\n",
    "import matplotlib.pyplot as plt\n",
    "plt.rcParams['figure.figsize'] = [14, 8]\n",
    "# %matplotlib inline\n",
    "\n",
    "text4.dispersion_plot(['citizens', 'democarcy', 'freedom', 'duties', 'America'])\n",
    "plt.show()"
   ]
  },
  {
   "cell_type": "markdown",
   "metadata": {},
   "source": [
    "#### Obtaining simple frequency counts for words in the corpora"
   ]
  },
  {
   "cell_type": "code",
   "execution_count": null,
   "metadata": {},
   "outputs": [],
   "source": [
    "# Counting Vocbulary. This count includes words, punctuation marks, and symbols.\n",
    "# count number of token, unique words, and lexical diversity.\n",
    "\n",
    "display(len(text3))\n",
    "display(len(set(text3)))\n",
    "display(len(text3)/len(set(text3)))"
   ]
  },
  {
   "cell_type": "code",
   "execution_count": null,
   "metadata": {},
   "outputs": [],
   "source": [
    "from nltk.probability import FreqDist"
   ]
  },
  {
   "cell_type": "code",
   "execution_count": null,
   "metadata": {},
   "outputs": [],
   "source": [
    "fdist1 = FreqDist(text1)\n",
    "display(fdist1.N())\n",
    "print('\\n')\n",
    "vocab1 = list(fdist1.most_common())\n",
    "display(vocab1[:50])\n",
    "text1.index('whale')"
   ]
  },
  {
   "cell_type": "code",
   "execution_count": null,
   "metadata": {},
   "outputs": [],
   "source": [
    "# Generating frequency distribution plot using FreqDist function\n",
    "\n",
    "a = fdist1.plot(50, cumulative=True)\n",
    "plt.figure(figsize = (100,100))\n",
    "plt.show()"
   ]
  },
  {
   "cell_type": "code",
   "execution_count": null,
   "metadata": {},
   "outputs": [],
   "source": [
    "fdist1.hapaxes()"
   ]
  },
  {
   "cell_type": "markdown",
   "metadata": {},
   "source": [
    "#### Word Cloud or Tag Cloud\n",
    "Tag Cloud is a powerful text visualization tool. Its use on inaugural addresses is demonstated below"
   ]
  },
  {
   "cell_type": "code",
   "execution_count": null,
   "metadata": {},
   "outputs": [],
   "source": [
    "# C://Users//Sid//Desktop//TextMining\n",
    "# Youtube04-Eminem.csv\n",
    "# inaug_speeches.csv\n",
    "# !pip install wordcloud\n",
    "import os\n",
    "os.chdir(\"C:/Users/Sid/Desktop/Text Mining/Day1/Decks\")"
   ]
  },
  {
   "cell_type": "code",
   "execution_count": null,
   "metadata": {},
   "outputs": [],
   "source": [
    "# importing all necessery modules\n",
    "from wordcloud import WordCloud, STOPWORDS\n",
    "import matplotlib.pyplot as plt\n",
    "import pandas as pd"
   ]
  },
  {
   "cell_type": "code",
   "execution_count": null,
   "metadata": {},
   "outputs": [],
   "source": [
    "# Read csv File\n",
    "df = pd.read_csv(r\"inaug_speeches.csv\", encoding =\"latin-1\") "
   ]
  },
  {
   "cell_type": "code",
   "execution_count": null,
   "metadata": {},
   "outputs": [],
   "source": [
    "comment_words = ' '\n",
    "stopwords = set(STOPWORDS) "
   ]
  },
  {
   "cell_type": "code",
   "execution_count": null,
   "metadata": {},
   "outputs": [],
   "source": [
    "# iterate through the csv file \n",
    "for val in df.text:\n",
    "      \n",
    "    # typecaste each val to string \n",
    "    val = str(val) \n",
    "  \n",
    "    # split the value \n",
    "    tokens = val.split() \n",
    "      \n",
    "    # Converts each token into lowercase \n",
    "    for i in range(len(tokens)): \n",
    "        tokens[i] = tokens[i].lower() \n",
    "          \n",
    "    for words in tokens: \n",
    "        comment_words = comment_words + words + ' '\n",
    "comment_words"
   ]
  },
  {
   "cell_type": "code",
   "execution_count": null,
   "metadata": {},
   "outputs": [],
   "source": [
    "wordcloud = WordCloud(width = 800, height = 800, \n",
    "                background_color ='white', \n",
    "                stopwords = stopwords, \n",
    "                min_font_size = 10).generate(comment_words)"
   ]
  },
  {
   "cell_type": "code",
   "execution_count": null,
   "metadata": {},
   "outputs": [],
   "source": [
    "# plot the WordCloud image                        \n",
    "plt.figure(figsize = (8, 8), facecolor = None) \n",
    "plt.imshow(wordcloud) \n",
    "plt.axis(\"off\") \n",
    "plt.tight_layout(pad = 0) \n",
    "  \n",
    "plt.show() "
   ]
  },
  {
   "cell_type": "markdown",
   "metadata": {},
   "source": [
    "########################   End of Lab   #######################"
   ]
  }
 ],
 "metadata": {
  "kernelspec": {
   "display_name": "Python 3",
   "language": "python",
   "name": "python3"
  },
  "language_info": {
   "codemirror_mode": {
    "name": "ipython",
    "version": 3
   },
   "file_extension": ".py",
   "mimetype": "text/x-python",
   "name": "python",
   "nbconvert_exporter": "python",
   "pygments_lexer": "ipython3",
   "version": "3.7.6"
  }
 },
 "nbformat": 4,
 "nbformat_minor": 2
}
